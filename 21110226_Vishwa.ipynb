{
  "nbformat": 4,
  "nbformat_minor": 0,
  "metadata": {
    "colab": {
      "provenance": []
    },
    "kernelspec": {
      "name": "python3",
      "display_name": "Python 3"
    },
    "language_info": {
      "name": "python"
    }
  },
  "cells": [
    {
      "cell_type": "code",
      "execution_count": 1,
      "metadata": {
        "id": "lU-oi17qikDv"
      },
      "outputs": [],
      "source": [
        "import numpy as np\n",
        "import matplotlib.pyplot as plt\n",
        "import pandas as pd"
      ]
    },
    {
      "cell_type": "code",
      "source": [
        "x = np.array([np.random.uniform(0, 9) for i in range(1000)])\n",
        "y = 1.5 * x + np.random.normal(0, 0.5, 1000)"
      ],
      "metadata": {
        "id": "R2HqihVWj2fH"
      },
      "execution_count": 2,
      "outputs": []
    },
    {
      "cell_type": "code",
      "source": [
        "## ORIGINAL POINTS\n",
        "plt.scatter(x, y)"
      ],
      "metadata": {
        "colab": {
          "base_uri": "https://localhost:8080/",
          "height": 283
        },
        "id": "KOcoVYwxjc5m",
        "outputId": "110db9db-a31b-4870-9161-d014595eb3db"
      },
      "execution_count": 3,
      "outputs": [
        {
          "output_type": "execute_result",
          "data": {
            "text/plain": [
              "<matplotlib.collections.PathCollection at 0x7f309d7176d0>"
            ]
          },
          "metadata": {},
          "execution_count": 3
        },
        {
          "output_type": "display_data",
          "data": {
            "text/plain": [
              "<Figure size 432x288 with 1 Axes>"
            ],
            "image/png": "[encoded data removed]"
          },
          "metadata": {
            "needs_background": "light"
          }
        }
      ]
    },
    {
      "cell_type": "markdown",
      "source": [
        "### Building a linear regression model"
      ],
      "metadata": {
        "id": "ny1kv0dsny3A"
      }
    },
    {
      "cell_type": "code",
      "source": [
        "def train_test_split(X, y, test_size):\n",
        "  split_index = int(X.shape[0] * (1 - test_size))\n",
        "  X_train = X[:split_index]\n",
        "  y_train = y[:split_index]\n",
        "  X_test = X[split_index:]\n",
        "  y_test = y[split_index:]\n",
        "\n",
        "  return X_train, X_test, y_train, y_test\n",
        "\n",
        "def fit(X_train, X_test, y_train, y_test):\n",
        "  # Add column of ones for intercept\n",
        "  X_train = np.column_stack((X_train, np.ones(X_train.shape[0])))\n",
        "  X_test = np.column_stack((X_test, np.ones(X_test.shape[0])))\n",
        "\n",
        "  # Return the normal coefficient : \n",
        "  X_T_X = np.dot(X_train.T, X_train)\n",
        "  X_T_X_inv = np.linalg.inv(X_T_X)\n",
        "  X_T_y = np.dot(X_train.T, y_train)\n",
        "  coef = np.dot(X_T_X_inv, X_T_y)\n",
        "\n",
        "  coef_ = coef[:-1]\n",
        "  intercept_ = coef[-1]\n",
        "  return coef_, intercept_\n",
        "\n",
        "def predict(X, coef, intercept):\n",
        "  X = np.array(X)\n",
        "  return (X * coef) + intercept\n"
      ],
      "metadata": {
        "id": "Kw2ngf0Anu14"
      },
      "execution_count": 4,
      "outputs": []
    },
    {
      "cell_type": "code",
      "source": [
        "X_train, X_test, y_train, y_test = train_test_split(x, y, 0.25)\n",
        "coef, intercept = fit(X_train, X_test, y_train, y_test)\n",
        "y_pred = predict(X_test, coef, intercept)\n",
        "\n",
        "y_pred"
      ],
      "metadata": {
        "colab": {
          "base_uri": "https://localhost:8080/"
        },
        "id": "-VWe_iK7qoWb",
        "outputId": "ffd32cb0-06fc-4d15-bd10-9f180ff87964"
      },
      "execution_count": 5,
      "outputs": [
        {
          "output_type": "execute_result",
          "data": {
            "text/plain": [
              "array([13.04594915,  2.53011564, 11.40019861,  9.45240438,  6.59929145,\n",
              "        4.74405722, 12.18595514,  6.10590113,  2.14701149,  5.11146184,\n",
              "        6.65337984,  7.98093759,  0.41966208,  3.48925547,  9.2561285 ,\n",
              "        2.11902474, 10.2124046 ,  9.36191999,  7.7989387 , 12.35485853,\n",
              "       13.40742332, 12.37813674,  0.17228103,  4.02600505, 12.57643197,\n",
              "        7.25626389,  6.20938203,  7.0746811 ,  0.03247609,  2.85113969,\n",
              "        3.98748025,  4.32417958,  9.24703701, 12.75988019,  3.95291019,\n",
              "        4.16239299,  5.42874272, 12.15246986, 11.23772787,  6.20929973,\n",
              "        8.25091477,  0.38249284,  3.547978  , 10.15767053,  4.36272655,\n",
              "       10.01399625,  9.33626555,  7.97815496,  0.2092831 , 12.99619252,\n",
              "       12.19292537,  1.90264313,  9.73875553,  4.23810557,  7.4648055 ,\n",
              "       10.51723313,  9.14900354,  4.67945771,  8.9923647 ,  3.7951716 ,\n",
              "        0.80167618,  3.16273495,  5.00878705,  6.60974883,  2.47246758,\n",
              "       10.64077697,  1.84613438,  6.35112501,  3.47704014,  3.25536133,\n",
              "        8.59788275, 10.75352614, 13.25157816,  7.29725685,  3.94218186,\n",
              "       13.09460286, 10.75019288, 12.51996598,  3.68343745,  4.76007883,\n",
              "        0.48627798,  6.87497931, 12.51972147, 11.42987227, 13.22197898,\n",
              "        6.31500162,  1.70251134,  2.76788335,  9.90494906, 12.20985937,\n",
              "        1.44101959,  2.06199047,  0.75982183,  0.71569912,  8.60931545,\n",
              "        0.58305601,  7.78406832,  5.49086695,  4.64523859,  0.29358018,\n",
              "       11.63713922,  4.16470508,  5.27279695,  7.63098671,  6.99377611,\n",
              "       10.0762815 , 10.78049449,  3.79236231,  4.75252929,  7.521243  ,\n",
              "        3.20874991,  9.83351792,  8.58148521,  6.32946979,  9.90265908,\n",
              "        0.46366805,  3.98666482,  6.45473618,  5.21348913,  6.74575082,\n",
              "        0.79723963,  1.74271411, 13.02392511,  2.51181886,  0.59075353,\n",
              "        9.51338819, 10.04019567, 12.08990427,  3.47744933,  0.94104516,\n",
              "        2.72589101, 12.78169507,  8.89699011, 11.09635168, 13.46050841,\n",
              "        9.63774037,  0.37868256,  8.26363898,  0.75793606, 12.4056378 ,\n",
              "        4.0435122 ,  6.13552628, 10.5127765 , 12.40021879,  2.22745991,\n",
              "        0.44355299, 10.24516882,  1.71919338,  9.32231202,  4.19696023,\n",
              "        2.82754679,  8.82137096, 11.13264675,  2.50455058,  8.02902279,\n",
              "        0.3241931 ,  9.24290258,  7.80179544,  2.16966757,  7.06694701,\n",
              "        2.86860788,  1.15732174,  2.88885399,  4.4081794 , 12.54185366,\n",
              "        5.08092778,  5.44206849,  3.70429867,  0.87551399,  5.58387227,\n",
              "        7.69427747, 10.28899592, 10.01293705, 10.88918137,  7.97864829,\n",
              "       10.41402062,  4.66939053,  1.41498116, 12.49860945,  1.1156592 ,\n",
              "        5.35948375,  8.96340032,  6.09888894,  8.25750802,  8.60436567,\n",
              "        9.01983648,  1.1353761 ,  0.93830544,  8.09928271,  8.41062498,\n",
              "        0.14878391,  1.89659784,  3.05008973, 12.64524745,  1.56863229,\n",
              "        9.47626846,  8.26691648,  5.67100208,  0.80762595,  1.17843725,\n",
              "        9.48843476,  4.79778679, 10.83356883,  8.38334489, 12.08204549,\n",
              "        3.63668625, 10.41339389,  6.74324919,  0.86524736, 10.82031831,\n",
              "       10.10750503,  3.44223497,  2.65371244,  3.07931105,  9.72449334,\n",
              "       12.36756139,  7.92726096,  1.51684055,  6.50802582, 12.43839945,\n",
              "        7.79492006,  5.63320154,  2.65101648,  6.27535686,  9.03932509,\n",
              "       11.95968351,  7.23083586,  7.92561954,  5.54046991, 11.25616731,\n",
              "       11.69435966,  3.63007436,  5.77117833, 12.48241163,  6.64501851,\n",
              "        2.43431967,  5.63411223,  6.82675383, 11.30130016,  3.07918546,\n",
              "        0.43137146,  9.37620822,  5.58611689,  9.29985452,  2.07063189,\n",
              "       10.61813409,  2.31508586, 11.0292134 ,  3.4095011 , 13.11751286])"
            ]
          },
          "metadata": {},
          "execution_count": 5
        }
      ]
    },
    {
      "cell_type": "code",
      "source": [
        "plt.scatter(x, y, color = 'blue')\n",
        "plt.plot(X_test, y_pred, color = 'red')\n",
        "plt.show()"
      ],
      "metadata": {
        "colab": {
          "base_uri": "https://localhost:8080/",
          "height": 265
        },
        "id": "IU9ks7_3tJSV",
        "outputId": "4cbb14a6-ef25-4c79-e0d5-d1f4b8836faf"
      },
      "execution_count": 6,
      "outputs": [
        {
          "output_type": "display_data",
          "data": {
            "text/plain": [
              "<Figure size 432x288 with 1 Axes>"
            ],
            "image/png": "[encoded data removed]"
          },
          "metadata": {
            "needs_background": "light"
          }
        }
      ]
    },
    {
      "cell_type": "markdown",
      "source": [
        "### GRADIENT DESCENT"
      ],
      "metadata": {
        "id": "IuDTBRq5uS5_"
      }
    },
    {
      "cell_type": "code",
      "source": [
        "m = 0\n",
        "c = 0\n",
        "\n",
        "learning_rate = 0.01\n",
        "iterations = 1000\n",
        "\n",
        "for i in range(iterations) :\n",
        "  pred_val = m * X_train + c\n",
        "  error = y_train - pred_val\n",
        "\n",
        "  slope_gradient = (-2 / len(X_train)) * np.sum(X_train * error)\n",
        "  intercept_gradient = (-2 / len(X_train)) * np.sum(error)\n",
        "\n",
        "  m = m - learning_rate * slope_gradient\n",
        "  c = c - learning_rate * intercept_gradient\n",
        "\n",
        "y_pred = m * X_test + c"
      ],
      "metadata": {
        "id": "Z4q6-uBAyJhz"
      },
      "execution_count": 7,
      "outputs": []
    },
    {
      "cell_type": "code",
      "source": [
        "plt.scatter(x, y, color = 'blue')\n",
        "plt.plot(X_test, y_pred, color = 'red')\n",
        "plt.show()"
      ],
      "metadata": {
        "colab": {
          "base_uri": "https://localhost:8080/",
          "height": 265
        },
        "id": "YO_hv8iw2c8K",
        "outputId": "d1619ed6-2c45-45fd-edc0-9963925201c9"
      },
      "execution_count": 8,
      "outputs": [
        {
          "output_type": "display_data",
          "data": {
            "text/plain": [
              "<Figure size 432x288 with 1 Axes>"
            ],
            "image/png": "[encoded data removed]"
          },
          "metadata": {
            "needs_background": "light"
          }
        }
      ]
    },
    {
      "cell_type": "code",
      "source": [
        "m, c"
      ],
      "metadata": {
        "colab": {
          "base_uri": "https://localhost:8080/"
        },
        "id": "R1X1F2LJ3Jkz",
        "outputId": "e145bc90-aa6e-4d01-9bae-4aaba81c0264"
      },
      "execution_count": 9,
      "outputs": [
        {
          "output_type": "execute_result",
          "data": {
            "text/plain": [
              "(1.4945190990103705, 0.029937103281976855)"
            ]
          },
          "metadata": {},
          "execution_count": 9
        }
      ]
    },
    {
      "cell_type": "markdown",
      "source": [
        "### Using SKLEARN Library"
      ],
      "metadata": {
        "id": "CnyuRj5X2vO8"
      }
    },
    {
      "cell_type": "code",
      "source": [
        "from sklearn.linear_model import LinearRegression\n",
        "\n",
        "X_train = X_train.reshape(-1, 1)\n",
        "X_test = X_test.reshape(-1, 1)\n",
        "\n",
        "lr = LinearRegression()\n",
        "lr.fit(X_train, y_train)\n",
        "y_pred_lr = lr.predict(X_test)"
      ],
      "metadata": {
        "id": "gmP-keMB231e"
      },
      "execution_count": 10,
      "outputs": []
    },
    {
      "cell_type": "code",
      "source": [
        "lr.coef_, lr.intercept_"
      ],
      "metadata": {
        "colab": {
          "base_uri": "https://localhost:8080/"
        },
        "id": "ASvmhlmW3uuG",
        "outputId": "1ad342ba-c512-408e-97b2-5f5c7030c65f"
      },
      "execution_count": 11,
      "outputs": [
        {
          "output_type": "execute_result",
          "data": {
            "text/plain": [
              "(array([1.494871]), 0.027882832346038278)"
            ]
          },
          "metadata": {},
          "execution_count": 11
        }
      ]
    },
    {
      "cell_type": "code",
      "source": [
        "plt.scatter(x, y, color = 'blue')\n",
        "plt.plot(X_test, y_pred_lr, color = 'red')\n",
        "plt.show()"
      ],
      "metadata": {
        "colab": {
          "base_uri": "https://localhost:8080/",
          "height": 265
        },
        "id": "q6t4BJjH3x5o",
        "outputId": "37b75dc3-6a52-451f-97f1-0d8e5a93250b"
      },
      "execution_count": 12,
      "outputs": [
        {
          "output_type": "display_data",
          "data": {
            "text/plain": [
              "<Figure size 432x288 with 1 Axes>"
            ],
            "image/png": "[encoded data removed]"
          },
          "metadata": {
            "needs_background": "light"
          }
        }
      ]
    },
    {
      "cell_type": "markdown",
      "source": [
        "### Inferences\n",
        "\n",
        "\n",
        "Coefficient of gradient descent : 1.4945190990103705\n",
        "Intercept : 0.029937103281976855\n",
        "\n",
        "\n",
        "\n",
        "Sklearn \n",
        "  - coeff : 1.494871\n",
        "  - intercept : 0.027882832346038278"
      ],
      "metadata": {
        "id": "-_khp4Cj4GpP"
      }
    },
    {
      "cell_type": "markdown",
      "source": [
        "### TIRALS (ERRORS)\n",
        "\n"
      ],
      "metadata": {
        "id": "WXcrJz8n2Waj"
      }
    },
    {
      "cell_type": "code",
      "source": [
        "# def linear_regression_gradient_descent(X, y, learning_rate, num_of_iter):\n",
        "#   # Slope and intercept with random values\n",
        "#   m = np.random.randn(X.shape[0])\n",
        "#   c = np.random.randn()\n",
        "\n",
        "#   for i in range(num_of_iter):\n",
        "#     # Predicted values\n",
        "#     y_pred = (X * m) + c\n",
        "    \n",
        "#     # Gradients of slope and intercept\n",
        "#     dm = - (2/X.shape[0]) * np.dot(X.T, (y - y_pred))\n",
        "#     dc = - (2/X.shape[0]) * np.sum(y - y_pred)\n",
        "\n",
        "#     # update\n",
        "#     m = m - learning_rate * dm\n",
        "#     c = c - learning_rate * dc\n",
        "\n",
        "#   return m, c\n",
        "\n",
        "# m, c = linear_regression_gradient_descent(x, y, 0.01, 1000)\n",
        "# y_pred = predict(X_test, m, c)\n",
        "\n",
        "# y_pred"
      ],
      "metadata": {
        "id": "ik_RGcOtuWVj"
      },
      "execution_count": 13,
      "outputs": []
    }
  ]
}